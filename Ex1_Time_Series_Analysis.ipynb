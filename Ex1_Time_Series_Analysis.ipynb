{
 "cells": [
  {
   "cell_type": "markdown",
   "id": "42142d60",
   "metadata": {},
   "source": [
    "<img src=\"https://www.th-koeln.de/img/logo.svg\" style=\"float:right;\" width=\"200\">"
   ]
  },
  {
   "cell_type": "markdown",
   "id": "756ba942",
   "metadata": {},
   "source": [
    "# 1st exercise: <font color=\"#C70039\">Time Series Analysis and Local Outlier Factor</font>\n",
    "* Course: <a href=\"https://www.gernotheisenberg.de/time_series_forecasting.html\">Time Series Forecasting (TSF)</a>\n",
    "* Lecturer: <a href=\"https://www.gernotheisenberg.de/uebermich.html\">Gernot Heisenberg</a>\n",
    "* Student: Joost-Henning Groot Bramel\n",
    "* Matriculation: 11089617\n",
    "* Date:   01.07.2025\n",
    "\n",
    "<img src=\"./images/decomposed_ts.png\" style=\"float: center;\" width=\"450\">\n",
    "\n",
    "---------------------------------\n",
    "**GENERAL NOTE 1**: \n",
    "Please make sure you are reading the entire notebook, since it contains a lot of information on your tasks (e.g. regarding the set of certain paramaters or a specific computational trick), and the written mark downs as well as comments contain a lot of information on how things work together as a whole. \n",
    "\n",
    "**GENERAL NOTE 2**: \n",
    "* Please, when commenting source code, just use English language only. \n",
    "* When describing an observation please use English language, too\n",
    "* This applies to all exercises throughout this course.  \n",
    "\n",
    "---------------------\n",
    "\n",
    "### <font color=\"ce33ff\">DESCRIPTION OF THE NOTEBOOK CONTENT</font>:\n",
    "This notebook allows you for getting into the handling of time series, including visualization of the rolling statistics as well as the local outlier factor as anomaly detection method. \n",
    "\n",
    "-------------------------------------------------------------------------------------------------------------\n",
    "\n",
    "### <font color=\"FFC300\">TASKS</font>:\n",
    "The tasks that you need to work on within this notebook are always indicated below as bullet points. \n",
    "If a task is more challenging and consists of several steps, this is indicated as well. \n",
    "Make sure you have worked down the task list and commented your doings. \n",
    "This should be done by using markdown.<br> \n",
    "<font color=red>Make sure you don't forget to specify your name and your matriculation number in the notebook.</font>\n",
    "\n",
    "**YOUR TASKS in this exercise are as follows**:\n",
    "1. import the notebook to Google Colab or use your local machine.\n",
    "2. make sure you specified you name and your matriculation number in the header below my name and date. \n",
    "    * set the date too and remove mine.\n",
    "3. read the entire notebook carefully \n",
    "    * add comments whereever you feel it necessary for better understanding\n",
    "    * run the notebook for the first time.\n",
    "    * understand the output\n",
    "4. load your own time series data set\n",
    "    * explore the code and the functionality\n",
    "    * play around\n",
    "-----------------------------------------------------------------------------------"
   ]
  },
  {
   "cell_type": "markdown",
   "id": "ca61a2b3-50ca-45e4-a374-bfe404865c20",
   "metadata": {},
   "source": [
    "### I. Rolling statistics section"
   ]
  },
  {
   "cell_type": "code",
   "execution_count": null,
   "id": "88f26227-505f-4c55-ac30-19cbf93d66ea",
   "metadata": {
    "tags": []
   },
   "outputs": [],
   "source": [
    "import pandas as pd\n",
    "import numpy as np\n",
    "# import matplotlib.pyplot as plt\n",
    "import scipy.stats as stats\n"
   ]
  },
  {
   "cell_type": "markdown",
   "id": "f577b7d2-aeed-40a7-aa7c-160c93c6b62a",
   "metadata": {
    "tags": []
   },
   "source": [
    "#### Moving Average"
   ]
  },
  {
   "cell_type": "code",
   "execution_count": 3,
   "id": "f840067e-a096-4e70-946a-57a40d5f6cf6",
   "metadata": {
    "tags": []
   },
   "outputs": [
    {
     "name": "stdout",
     "output_type": "stream",
     "text": [
      "   Time  Value  Moving_Avg\n",
      "0     1     10         NaN\n",
      "1     2     12        11.0\n",
      "2     3     15        13.5\n",
      "3     4     18        16.5\n",
      "4     5     22        20.0\n"
     ]
    }
   ],
   "source": [
    "data = {'Time': [1, 2, 3, 4, 5], 'Value': [10, 12, 15, 18, 22]}\n",
    "df = pd.DataFrame(data)\n",
    "df['Moving_Avg'] = df['Value'].rolling(window=2).mean()\n",
    "print(df)"
   ]
  },
  {
   "cell_type": "markdown",
   "id": "58afb764-0e6d-4e89-a80a-db0a0296b8b9",
   "metadata": {
    "tags": []
   },
   "source": [
    "##### <font color=\"ce33ff\">TASK</font>: take your own time series and also visualize the result as a chart"
   ]
  },
  {
   "cell_type": "markdown",
   "id": "9fb05350-fba8-4d7e-8c94-7a413437d744",
   "metadata": {},
   "source": [
    "#### Exponential Moving Average"
   ]
  },
  {
   "cell_type": "code",
   "execution_count": 4,
   "id": "9f38edb9-1351-46fe-b320-bb8edae07d9a",
   "metadata": {
    "tags": []
   },
   "outputs": [
    {
     "name": "stdout",
     "output_type": "stream",
     "text": [
      "   Time  Value        EMA\n",
      "0     1     10  10.000000\n",
      "1     2     12  11.333333\n",
      "2     3     15  13.777778\n",
      "3     4     18  16.592593\n",
      "4     5     22  20.197531\n"
     ]
    }
   ],
   "source": [
    "data = {'Time': [1, 2, 3, 4, 5], 'Value': [10, 12, 15, 18, 22]}\n",
    "df = pd.DataFrame(data)\n",
    "df['EMA'] = df['Value'].ewm(span=2, adjust=False).mean()\n",
    "print(df)"
   ]
  },
  {
   "cell_type": "markdown",
   "id": "c0365e88-543c-4192-9b8c-1bda8b3e8112",
   "metadata": {
    "tags": []
   },
   "source": [
    "##### <font color=\"ce33ff\">TASK</font>: take your own time series and also visualize the result as a chart"
   ]
  },
  {
   "cell_type": "markdown",
   "id": "a2de9022-10f9-40b1-88e3-33d2e10e8ee4",
   "metadata": {},
   "source": [
    "#### Variance"
   ]
  },
  {
   "cell_type": "code",
   "execution_count": 7,
   "id": "22bb24fe-81d0-4a62-a0a9-e3a5dc146292",
   "metadata": {
    "tags": []
   },
   "outputs": [
    {
     "name": "stdout",
     "output_type": "stream",
     "text": [
      "Variance: 24.0, Standard Deviation: 4.898979485566356\n"
     ]
    }
   ],
   "source": [
    "data = [10, 12, 23, 23, 16, 23, 21, 16]\n",
    "variance = np.var(data)\n",
    "std_dev = np.sqrt(variance)\n",
    "print(f'Variance: {variance}, Standard Deviation: {std_dev}')"
   ]
  },
  {
   "cell_type": "markdown",
   "id": "7837b32e-5f09-4bdd-9da6-aa20f7cf97ae",
   "metadata": {
    "tags": []
   },
   "source": [
    "##### <font color=\"ce33ff\">TASK</font>: take your own time series and compute"
   ]
  },
  {
   "cell_type": "markdown",
   "id": "d917bd0e-5201-4a1f-9a90-c0809290f23d",
   "metadata": {},
   "source": [
    "#### Skewness"
   ]
  },
  {
   "cell_type": "code",
   "execution_count": 8,
   "id": "07937026-0d9a-4434-abd1-383f496c05bf",
   "metadata": {
    "tags": []
   },
   "outputs": [
    {
     "ename": "ModuleNotFoundError",
     "evalue": "No module named 'scipy'",
     "output_type": "error",
     "traceback": [
      "\u001b[1;31m---------------------------------------------------------------------------\u001b[0m",
      "\u001b[1;31mModuleNotFoundError\u001b[0m                       Traceback (most recent call last)",
      "Cell \u001b[1;32mIn[8], line 1\u001b[0m\n\u001b[1;32m----> 1\u001b[0m \u001b[38;5;28;01mimport\u001b[39;00m\u001b[38;5;250m \u001b[39m\u001b[38;5;21;01mscipy\u001b[39;00m\u001b[38;5;21;01m.\u001b[39;00m\u001b[38;5;21;01mstats\u001b[39;00m\u001b[38;5;250m \u001b[39m\u001b[38;5;28;01mas\u001b[39;00m\u001b[38;5;250m \u001b[39m\u001b[38;5;21;01mstats\u001b[39;00m\n\u001b[0;32m      2\u001b[0m \u001b[38;5;28;01mimport\u001b[39;00m\u001b[38;5;250m \u001b[39m\u001b[38;5;21;01mnumpy\u001b[39;00m\u001b[38;5;250m \u001b[39m\u001b[38;5;28;01mas\u001b[39;00m\u001b[38;5;250m \u001b[39m\u001b[38;5;21;01mnp\u001b[39;00m\n\u001b[0;32m      4\u001b[0m data \u001b[38;5;241m=\u001b[39m np\u001b[38;5;241m.\u001b[39mrandom\u001b[38;5;241m.\u001b[39mgamma(\u001b[38;5;241m2.\u001b[39m, \u001b[38;5;241m2.\u001b[39m, \u001b[38;5;241m1000\u001b[39m)\n",
      "\u001b[1;31mModuleNotFoundError\u001b[0m: No module named 'scipy'"
     ]
    }
   ],
   "source": [
    "\n",
    "\n",
    "data = np.random.gamma(2., 2., 1000)\n",
    "skewness = stats.skew(data)\n",
    "print(f'Skewness: {skewness}')"
   ]
  },
  {
   "cell_type": "markdown",
   "id": "bbb74b3d-36f1-4cfa-ba6f-016ed01d8380",
   "metadata": {},
   "source": [
    "##### <font color=\"ce33ff\">TASK</font>: take your own time series and compute "
   ]
  },
  {
   "cell_type": "markdown",
   "id": "505e20c8-e75b-46a8-b0f1-ab00623de139",
   "metadata": {},
   "source": [
    "#### Kurtosis"
   ]
  },
  {
   "cell_type": "code",
   "execution_count": 5,
   "id": "ad653e9d-511d-4069-b78c-cff69afa4464",
   "metadata": {
    "tags": []
   },
   "outputs": [
    {
     "name": "stdout",
     "output_type": "stream",
     "text": [
      "Kurtosis: -0.24879835744982648\n"
     ]
    }
   ],
   "source": [
    "data = np.random.normal(0, 1, 1000)\n",
    "kurtosis = stats.kurtosis(data)\n",
    "print(f'Kurtosis: {kurtosis}')"
   ]
  },
  {
   "cell_type": "markdown",
   "id": "8bc51a48-6a0f-4753-92ee-35a3421db4f5",
   "metadata": {},
   "source": [
    "##### <font color=\"ce33ff\">TASK</font>: take your own time series and compute "
   ]
  },
  {
   "cell_type": "markdown",
   "id": "c88bd38a-4807-4a0a-9cc7-274051cf3fb1",
   "metadata": {},
   "source": [
    "### II. Local Outlier Factor section"
   ]
  },
  {
   "cell_type": "code",
   "execution_count": 13,
   "id": "df7a90ca-209f-4f0f-97ad-facc84606143",
   "metadata": {
    "tags": []
   },
   "outputs": [],
   "source": [
    "import numpy as np\n",
    "import pandas as pd\n",
    "import matplotlib.pyplot as plt\n",
    "from sklearn.neighbors import LocalOutlierFactor"
   ]
  },
  {
   "cell_type": "markdown",
   "id": "024d2d83-33f1-4f68-b413-922a9c3d4317",
   "metadata": {},
   "source": [
    "#### Create the time series data containing outliers"
   ]
  },
  {
   "cell_type": "code",
   "execution_count": 15,
   "id": "49ef3531-5bc5-48b9-9a98-d4e5cf4efa56",
   "metadata": {
    "tags": []
   },
   "outputs": [],
   "source": [
    "# Generate synthetic time series data\n",
    "np.random.seed(42)\n",
    "time = np.arange(100)\n",
    "values = np.sin(time / 5) + np.random.normal(scale=0.2, size=100)\n",
    "\n",
    "# Introduce some artificial outliers\n",
    "values[[10, 50, 90]] = values[[10, 50, 90]] + np.array([3, -3, 3])\n",
    "\n",
    "# Convert into a DataFrame\n",
    "df = pd.DataFrame({'time': time, 'value': values})"
   ]
  },
  {
   "cell_type": "markdown",
   "id": "a6cf88f2-1459-49c6-aaf8-c2f0070d1458",
   "metadata": {},
   "source": [
    "#### Detect the outliers using LOF"
   ]
  },
  {
   "cell_type": "code",
   "execution_count": 18,
   "id": "558062d5-28b6-44f6-be23-b933ebe8fe9e",
   "metadata": {
    "tags": []
   },
   "outputs": [],
   "source": [
    "# Apply LOF for outlier detection\n",
    "lof = LocalOutlierFactor(n_neighbors=20, contamination=0.05)\n",
    "df['outlier'] = lof.fit_predict(df[['value']])\n",
    "\n",
    "# Identify outliers (-1 means outlier, 1 means inlier)\n",
    "outliers = df[df['outlier'] == -1]"
   ]
  },
  {
   "cell_type": "markdown",
   "id": "f0c88906-fe20-4059-8dc4-10677509f041",
   "metadata": {},
   "source": [
    "#### Visualize the detected outliers"
   ]
  },
  {
   "cell_type": "code",
   "execution_count": 17,
   "id": "ab65483b-43ee-4ad0-9851-15bc1e744d3a",
   "metadata": {
    "tags": []
   },
   "outputs": [
    {
     "data": {
      "image/png": "[encoded data removed]",
      "text/plain": [
       "<Figure size 1000x500 with 1 Axes>"
      ]
     },
     "metadata": {},
     "output_type": "display_data"
    }
   ],
   "source": [
    "# Plot the time series with outliers highlighted\n",
    "plt.figure(figsize=(10, 5))\n",
    "plt.plot(df['time'], df['value'], label=\"Time Series\", color='blue', alpha=0.6)\n",
    "plt.scatter(outliers['time'], outliers['value'], color='red', label=\"Outliers\", marker='o', edgecolors='k', s=100)\n",
    "plt.xlabel(\"Time\")\n",
    "plt.ylabel(\"Value\")\n",
    "plt.title(\"Outlier Detection in Time Series using LOF\")\n",
    "plt.legend()\n",
    "plt.show()"
   ]
  },
  {
   "cell_type": "markdown",
   "id": "b2dc92a0-b7d4-4a56-8dc5-3aa52b31163d",
   "metadata": {},
   "source": [
    "##### <font color=\"ce33ff\">TASK</font>: take your own time series and detect the outliers with LOF"
   ]
  },
  {
   "cell_type": "code",
   "execution_count": null,
   "id": "8043c8b5-c81a-41be-bb01-29c99c9e1acc",
   "metadata": {},
   "outputs": [],
   "source": []
  }
 ],
 "metadata": {
  "kernelspec": {
   "display_name": "venv",
   "language": "python",
   "name": "python3"
  },
  "language_info": {
   "codemirror_mode": {
    "name": "ipython",
    "version": 3
   },
   "file_extension": ".py",
   "mimetype": "text/x-python",
   "name": "python",
   "nbconvert_exporter": "python",
   "pygments_lexer": "ipython3",
   "version": "3.10.11"
  }
 },
 "nbformat": 4,
 "nbformat_minor": 5
}
