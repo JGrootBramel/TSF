{
 "cells": [
  {
   "cell_type": "markdown",
   "id": "42142d60",
   "metadata": {},
   "source": [
    "<img src=\"https://www.th-koeln.de/img/logo.svg\" style=\"float:right;\" width=\"200\">"
   ]
  },
  {
   "cell_type": "markdown",
   "id": "756ba942",
   "metadata": {},
   "source": [
    "# Exam: <font color=\"#C70039\">Data set and task description</font> Team 5\n",
    "* Course: <a href=\"https://www.gernotheisenberg.de/time_series_forecasting.html\">Time Series Forecasting (TSF)</a>\n",
    "* Lecturer: <a href=\"https://www.gernotheisenberg.de/uebermich.html\">Gernot Heisenberg</a>\n",
    "* Author of notebook: <a href=\"https://www.gernotheisenberg.de/lehre.html\">Gernot Heisenberg</a>\n",
    "* Students:\n",
    "    * Shah\n",
    "    * Joost-Henning Groot Bramel, 11089617\n",
    "* Date:   24.06.2025"
   ]
  },
  {
   "cell_type": "code",
   "execution_count": 2,
   "id": "0fd4708a",
   "metadata": {},
   "outputs": [],
   "source": [
    "# Imports\n",
    "\n",
    "import pandas as pd\n",
    "from sktime.datasets import load_from_tsfile_to_dataframe\n",
    "from pathlib import Path\n"
   ]
  },
  {
   "cell_type": "markdown",
   "id": "a0684f23",
   "metadata": {},
   "source": [
    "# 1. Australian Electricity Demand (australian_electricity_demand_dataset.tsf)\n",
    "This dataset contains 5 time series representing the half hourly electricity demand of 5 states in Australia: Victoria, New South Wales, Queensland, Tasmania and South Australia. It was extracted from R tsibbledata package.\n",
    "\n"
   ]
  },
  {
   "cell_type": "markdown",
   "id": "b8133d14",
   "metadata": {},
   "source": [
    "## Load data\n",
    "Download Link on sciebo: https://th-koeln.sciebo.de/s/Dutn70IIcdcdFmG"
   ]
  },
  {
   "cell_type": "code",
   "execution_count": 7,
   "id": "e73017b7",
   "metadata": {},
   "outputs": [
    {
     "ename": "OSError",
     "evalue": "a full set of metadata has not been provided before the data",
     "output_type": "error",
     "traceback": [
      "\u001b[1;31m---------------------------------------------------------------------------\u001b[0m",
      "\u001b[1;31mOSError\u001b[0m                                   Traceback (most recent call last)",
      "Cell \u001b[1;32mIn[7], line 3\u001b[0m\n\u001b[0;32m      1\u001b[0m \u001b[38;5;66;03m## Load Data\u001b[39;00m\n\u001b[0;32m      2\u001b[0m path \u001b[38;5;241m=\u001b[39m Path(\u001b[38;5;124m\"\u001b[39m\u001b[38;5;124mdata/exam/australian_electricity_demand_dataset.tsf\u001b[39m\u001b[38;5;124m\"\u001b[39m)\u001b[38;5;241m.\u001b[39mabsolute()\n\u001b[1;32m----> 3\u001b[0m df \u001b[38;5;241m=\u001b[39m \u001b[43mload_from_tsfile_to_dataframe\u001b[49m\u001b[43m(\u001b[49m\u001b[43mpath\u001b[49m\u001b[43m,\u001b[49m\u001b[43m \u001b[49m\u001b[43mreplace_missing_vals_with\u001b[49m\u001b[38;5;241;43m=\u001b[39;49m\u001b[38;5;124;43m\"\u001b[39;49m\u001b[38;5;124;43mNaN\u001b[39;49m\u001b[38;5;124;43m\"\u001b[39;49m\u001b[43m)\u001b[49m\n\u001b[0;32m      4\u001b[0m df\u001b[38;5;241m.\u001b[39mhead()\n",
      "File \u001b[1;32mc:\\Users\\Joost\\workspace\\TSF\\venv\\lib\\site-packages\\sktime\\datasets\\_readers_writers\\ts.py:218\u001b[0m, in \u001b[0;36mload_from_tsfile_to_dataframe\u001b[1;34m(full_file_path_and_name, return_separate_X_and_y, replace_missing_vals_with, encoding, y_dtype)\u001b[0m\n\u001b[0;32m    209\u001b[0m \u001b[38;5;28;01melif\u001b[39;00m data_started:\n\u001b[0;32m    210\u001b[0m     \u001b[38;5;66;03m# Check that a full set of metadata has been provided\u001b[39;00m\n\u001b[0;32m    211\u001b[0m     \u001b[38;5;28;01mif\u001b[39;00m (\n\u001b[0;32m    212\u001b[0m         \u001b[38;5;129;01mnot\u001b[39;00m has_problem_name_tag\n\u001b[0;32m    213\u001b[0m         \u001b[38;5;129;01mor\u001b[39;00m \u001b[38;5;129;01mnot\u001b[39;00m has_timestamps_tag\n\u001b[1;32m   (...)\u001b[0m\n\u001b[0;32m    216\u001b[0m         \u001b[38;5;129;01mor\u001b[39;00m \u001b[38;5;129;01mnot\u001b[39;00m has_data_tag\n\u001b[0;32m    217\u001b[0m     ):\n\u001b[1;32m--> 218\u001b[0m         \u001b[38;5;28;01mraise\u001b[39;00m \u001b[38;5;167;01mOSError\u001b[39;00m(\n\u001b[0;32m    219\u001b[0m             \u001b[38;5;124m\"\u001b[39m\u001b[38;5;124ma full set of metadata has not been provided \u001b[39m\u001b[38;5;124m\"\u001b[39m\n\u001b[0;32m    220\u001b[0m             \u001b[38;5;124m\"\u001b[39m\u001b[38;5;124mbefore the data\u001b[39m\u001b[38;5;124m\"\u001b[39m\n\u001b[0;32m    221\u001b[0m         )\n\u001b[0;32m    222\u001b[0m     \u001b[38;5;66;03m# Replace any missing values with the value specified\u001b[39;00m\n\u001b[0;32m    223\u001b[0m     line \u001b[38;5;241m=\u001b[39m line\u001b[38;5;241m.\u001b[39mreplace(\u001b[38;5;124m\"\u001b[39m\u001b[38;5;124m?\u001b[39m\u001b[38;5;124m\"\u001b[39m, replace_missing_vals_with)\n",
      "\u001b[1;31mOSError\u001b[0m: a full set of metadata has not been provided before the data"
     ]
    }
   ],
   "source": [
    "## Load Data\n",
    "path = Path(\"data/exam/australian_electricity_demand_dataset.tsf\").absolute()\n",
    "df = load_from_tsfile_to_dataframe(path, replace_missing_vals_with=\"NaN\")\n",
    "df.head()"
   ]
  },
  {
   "cell_type": "markdown",
   "id": "5f6115b1",
   "metadata": {},
   "source": [
    "# 2. Saugeen River Flow (SaugeenDay) (saugeenday_dataset.tsf)\n",
    "This dataset contains a single very long time series representing the daily mean flow of the Saugeen River at Walkerton in cubic meters per second from 01/01/1915 to 31/12/1979. \n",
    "It was extracted from the R deseasonalize package. The length of this time series is 23741.\n",
    "\n",
    "Download Link on sciebo: https://th-koeln.sciebo.de/s/U6qw87Fq8wKmkCL "
   ]
  },
  {
   "cell_type": "code",
   "execution_count": 5,
   "id": "5832e8e2",
   "metadata": {},
   "outputs": [
    {
     "ename": "OSError",
     "evalue": "a full set of metadata has not been provided before the data",
     "output_type": "error",
     "traceback": [
      "\u001b[1;31m---------------------------------------------------------------------------\u001b[0m",
      "\u001b[1;31mOSError\u001b[0m                                   Traceback (most recent call last)",
      "Cell \u001b[1;32mIn[5], line 3\u001b[0m\n\u001b[0;32m      1\u001b[0m \u001b[38;5;66;03m## Load Data\u001b[39;00m\n\u001b[0;32m      2\u001b[0m path \u001b[38;5;241m=\u001b[39m Path(\u001b[38;5;124m\"\u001b[39m\u001b[38;5;124mdata/exam/saugeenday_dataset.tsf\u001b[39m\u001b[38;5;124m\"\u001b[39m)\n\u001b[1;32m----> 3\u001b[0m saugeenday_df \u001b[38;5;241m=\u001b[39m \u001b[43mload_from_tsfile_to_dataframe\u001b[49m\u001b[43m(\u001b[49m\u001b[43mpath\u001b[49m\u001b[43m,\u001b[49m\u001b[43m \u001b[49m\u001b[43mreplace_missing_vals_with\u001b[49m\u001b[38;5;241;43m=\u001b[39;49m\u001b[38;5;124;43m\"\u001b[39;49m\u001b[38;5;124;43mNaN\u001b[39;49m\u001b[38;5;124;43m\"\u001b[39;49m\u001b[43m)\u001b[49m\n\u001b[0;32m      4\u001b[0m saugeenday_df\u001b[38;5;241m.\u001b[39mhead()\n\u001b[0;32m      6\u001b[0m \u001b[38;5;66;03m## Plot Data\u001b[39;00m\n",
      "File \u001b[1;32mc:\\Users\\Joost\\workspace\\TSF\\venv\\lib\\site-packages\\sktime\\datasets\\_readers_writers\\ts.py:218\u001b[0m, in \u001b[0;36mload_from_tsfile_to_dataframe\u001b[1;34m(full_file_path_and_name, return_separate_X_and_y, replace_missing_vals_with, encoding, y_dtype)\u001b[0m\n\u001b[0;32m    209\u001b[0m \u001b[38;5;28;01melif\u001b[39;00m data_started:\n\u001b[0;32m    210\u001b[0m     \u001b[38;5;66;03m# Check that a full set of metadata has been provided\u001b[39;00m\n\u001b[0;32m    211\u001b[0m     \u001b[38;5;28;01mif\u001b[39;00m (\n\u001b[0;32m    212\u001b[0m         \u001b[38;5;129;01mnot\u001b[39;00m has_problem_name_tag\n\u001b[0;32m    213\u001b[0m         \u001b[38;5;129;01mor\u001b[39;00m \u001b[38;5;129;01mnot\u001b[39;00m has_timestamps_tag\n\u001b[1;32m   (...)\u001b[0m\n\u001b[0;32m    216\u001b[0m         \u001b[38;5;129;01mor\u001b[39;00m \u001b[38;5;129;01mnot\u001b[39;00m has_data_tag\n\u001b[0;32m    217\u001b[0m     ):\n\u001b[1;32m--> 218\u001b[0m         \u001b[38;5;28;01mraise\u001b[39;00m \u001b[38;5;167;01mOSError\u001b[39;00m(\n\u001b[0;32m    219\u001b[0m             \u001b[38;5;124m\"\u001b[39m\u001b[38;5;124ma full set of metadata has not been provided \u001b[39m\u001b[38;5;124m\"\u001b[39m\n\u001b[0;32m    220\u001b[0m             \u001b[38;5;124m\"\u001b[39m\u001b[38;5;124mbefore the data\u001b[39m\u001b[38;5;124m\"\u001b[39m\n\u001b[0;32m    221\u001b[0m         )\n\u001b[0;32m    222\u001b[0m     \u001b[38;5;66;03m# Replace any missing values with the value specified\u001b[39;00m\n\u001b[0;32m    223\u001b[0m     line \u001b[38;5;241m=\u001b[39m line\u001b[38;5;241m.\u001b[39mreplace(\u001b[38;5;124m\"\u001b[39m\u001b[38;5;124m?\u001b[39m\u001b[38;5;124m\"\u001b[39m, replace_missing_vals_with)\n",
      "\u001b[1;31mOSError\u001b[0m: a full set of metadata has not been provided before the data"
     ]
    }
   ],
   "source": [
    "## Load Data\n",
    "path = Path(\"data/exam/saugeenday_dataset.tsf\")\n",
    "saugeenday_df = load_from_tsfile_to_dataframe(path, replace_missing_vals_with=\"NaN\")\n",
    "saugeenday_df.head()\n",
    "\n",
    "## Plot Data\n",
    "saugeenday_df.plot()\n",
    "\n",
    "## Plot Data\n",
    "saugeenday_df.plot()\n"
   ]
  },
  {
   "cell_type": "markdown",
   "id": "57935f59-3dc5-4122-9861-e80c6793237e",
   "metadata": {},
   "source": [
    "# <font color = Yellow>1. The data sets</font>\n",
    "\n",
    "All data sets, after unzipping, are either in tsf or in csv format. In the case it is tsf you can use load_tsf_to_dataframe() from sktime. A detailed description can be found here:\n",
    "https://www.sktime.net/en/latest/api_reference/auto_generated/sktime.datasets.load_tsf_to_dataframe.html \n",
    "\n",
    "------------------\n",
    "\n",
    "\n",
    "\n",
    "\n",
    "## 1.2 Saugeen River Flow (SaugeenDay) (saugeenday_dataset.tsf)\n",
    "This dataset contains a single very long time series representing the daily mean flow of the Saugeen River at Walkerton in cubic meters per second from 01/01/1915 to 31/12/1979. \n",
    "It was extracted from the R deseasonalize package. The length of this time series is 23741.\n",
    "\n",
    "Download Link on sciebo: https://th-koeln.sciebo.de/s/U6qw87Fq8wKmkCL \n",
    "\n",
    "## 1.3 Monthly WTI Oil Price Prediction Dataset (wti_oil_dataset.csv)\n",
    "A comprehensive dataset for WTI crude oil price prediction, combining key economic indicators and oil industry metrics from 2005-2024. Features include:\n",
    "\n",
    "* EUR/USD exchange rates, Oil inventory levels, Production volumes, Rig counts, Inflation rates, Technical indicators (rolling averages).\n",
    "\n",
    "The data was sourced from EIA and FRED APIs, processed and engineered for time series forecasting. Ideal for price prediction models and market analysis.\n",
    "The data set comes prepared with proper cleaning and feature engineering. It contains economic indicators, which has correlations with wti oil price and technical indicators as 6-12 month wti price rolling means, 6 month wti price lag.\n",
    "Take the wti price for forecasting\n",
    "\n",
    "Download Link on sciebo: https://th-koeln.sciebo.de/s/CPzMQGBIdDnpOvd\n",
    "\n",
    "## 1.4 Egg sales ( :-) ) (egg_sales.zip)\n",
    "This data set contains detailing 30 years of egg sales from a Sri Lankan shop. You'll uncover the nuances of seasonal fluctuations influenced by cultural festivities, global events, and even unexpected lockdowns. Beyond just raw numbers, this dataset tells a story of traditions, market dynamics and the resilience of businesses. \n",
    "Predict the egg sales for 2022.\n",
    "\n",
    "* Training data (train_egg_sales.csv):\n",
    "    * Date: The specific day of sales, spanning from 1993 to the end of 2021.\n",
    "    * Egg Sales: The number of eggs sold on the corresponding date.\n",
    "* Testing Data (test_egg_sales.csv):\n",
    "    * Dates for the year 2022 for which you are expected to forecast the egg sales ;-) .\n",
    "\n",
    "Download Link on sciebo: https://th-koeln.sciebo.de/s/2ydeec9PFc7crzO\n",
    "\n",
    "## 1.5 Car Parts Dataset (without Missing Values)(car_parts_dataset_without_missing_values.tsf) [OPTIONAL]\n",
    "This dataset contains 2674 intermittent monthly time series that represent car parts sales from January 1998 to March 2002. It was extracted from R expsmooth package. \n",
    "The original dataset contains missing values and they have been replaced by zeros.\n",
    "\n",
    "Download Link on sciebo: https://th-koeln.sciebo.de/s/xzTVrytuW8DfiPL "
   ]
  },
  {
   "cell_type": "markdown",
   "id": "42632209-afcd-4260-a2f6-aba3b6aad20e",
   "metadata": {},
   "source": [
    "# <font color = Yellow>2. Models</font>\n",
    "-------------------\n",
    "## 2.1 TimeGPT from Nixtla\n",
    "### TEAM: A\n",
    "TimeGPT was the first foundation model for time series forecasting, characterized by its ability to generalize across diverse domains. It can produce precise forecasts on data sets beyond those used during its training phase. \n",
    "\n",
    "## 2.2 N-BEATS and N_HITS (NeuralForecast lib) from Nixtla\n",
    "### TEAM: B\n",
    "NeuralForecast is a Python library designed specifically for time series forecasting using advanced deep learning models. It includes models like N-BEATS, N-HITS, and other state-of-the-art techniques, which are well-suited for capturing complex patterns in time series data. NeuralForecast is particularly powerful because it allows for the simultaneous training of multiple models, can handle different data frequencies and is optimized for forecasting multiple time series.\n",
    "\n",
    "## 2.3 Chronos from Amazon\n",
    "### TEAM: C\n",
    "A revolutionary time series model that leverages the intricate mechanics of language processing to predict the future with unprecedented accuracy.\n",
    "\n",
    "## 2.4 Moirai from Salesforce\n",
    "### TEAM: D\n",
    "Moirai is Salesforce’s cutting-edge foundation model for time series forecasting, offering universal forecasting with robust zero-shot predictions across diverse domains, frequencies, and variables and enabling a single versatile model to deliver highly accurate forecasts for any time-series application.\n",
    "\n",
    "## 2.5 Tiny Time Mixers - TTM from IBM\n",
    "### TEAM: E\n",
    "TTM is a lightweight, MLP-based foundation TS model (≤ 1M parameters) that excels in zero-shot forecasting, even outperforming larger SOTA models.\n",
    "\n",
    "## 2.6 NeuralProphet - Community Project\n",
    "### TEAM: F\n",
    "NeuralProphet is a decomposable time series model with the components, trend, seasonality, auto-regression, special events, future regressors and lagged regressors."
   ]
  },
  {
   "cell_type": "markdown",
   "id": "d550f66d-53cd-4d84-9b05-033229c8d023",
   "metadata": {},
   "source": [
    "# <font color = Yellow>3. Important dates, organization of the exam and task description</font>\n",
    "---------------\n",
    "\n",
    "## 3.1 Important Dates\n",
    "* Preparation:\n",
    "    * Assign yourself to a team of two to three persons\n",
    "    * Deadline 18.06.2025 at 5pm\n",
    "* Assignment of forecasting approach to teams\n",
    "    * Deadline: 18.06.2025\n",
    "* Download of data sets for forecasting:\n",
    "    * Start: 25.06.2025\n",
    "* Upload of final zip folders containing your notebooks and additional materials\n",
    "    * Deadline: 09.07.2025 at 3pm in ILU\n",
    "* Exam session at TH\n",
    "    * Start: 09.07.2025 at 3pm \n",
    "    * Time slots for presentations will be assigned by 25.06.2025\n",
    "    * Time slots can be found: https://docs.google.com/spreadsheets/d/1BweXjsdQ2dcEUgC-xKkyo0HcTsmrGjp3gDlr8efHJDE/edit?gid=0#gid=0\n",
    "\n",
    "## <font color = magenta>3.2 Your tasks </font>\n",
    "* Describe the theory of the forecasting approach assigned to your team (preferably in the notebook you upload). \n",
    "* Explain the approach, the most relevant aspects, parameters and features.\n",
    "    * you can do this in your notebook, or on some extra slides.\n",
    "    * However, inside the notebook would be preferred.\n",
    "\n",
    "* Now, for each data set I provided: do forecasts with\n",
    "    * Baseline(s)\n",
    "    * statistical methods \n",
    "        * SARIMA (depending on the problem)\n",
    "    * LSTM\n",
    "    * Prophet \n",
    "    * TimesFM\n",
    "    * The special forecasting method assigned to your team \n",
    "    \n",
    "#### <font color = red>NOTE</font>\n",
    "* Make sure that you consider different types of forecasts and baselines (obviously depending on the approach) while implementing your forecasting analysis (preferably all in one notebook only) \n",
    "* Compare all results from the forecasts from above list and discuss the potential differences thoroughly (some suggestions for leading questions). \n",
    "    * i.e. What could be possible explanations for different performances?\n",
    "    * Is it what you expected?\n",
    "    * How could the historical data sets deliver reasons for the deviation in precision?\n",
    "\t* What makes you believe this? \n",
    "    * Did you carry out some more research or checks to confirm your assumptions?\n",
    "    * Are there other reasons you could imagine?\n",
    "    * Last but no least\n",
    "        * specify your team letter and your names of the team members\n",
    "        * upload your notebook (or your zip in case you want to upload more) in due time on ILU\n",
    "        * prepare a presentation as a team for the workshop, where we exchange the results\n",
    "\n",
    "## <font color = #39FF14>3.3 Time Table for examination day on July 9th</font>\n",
    "\n",
    "* Start presentations 15.00 (approx. 20 mins each)\n",
    "    * Team A: 15:00-15:20\n",
    "    * Team B: 15:25-15:45\n",
    "        * Break:  15:45-15:55\n",
    "    * Team C: 15:55-16:15\n",
    "    * Team D: 16:20-16:40\n",
    "        * Break:  16:45-16:55\n",
    "    * Team E: 16:55-17:15\n",
    "    * Team F: 17:20-17:40 \n",
    "        * Break:  17:40-17:50\n",
    "* Plenum: bringing it together and discuss the findings 17:50-18:30 (approx.)\n",
    "\n"
   ]
  }
 ],
 "metadata": {
  "kernelspec": {
   "display_name": "venv",
   "language": "python",
   "name": "python3"
  },
  "language_info": {
   "codemirror_mode": {
    "name": "ipython",
    "version": 3
   },
   "file_extension": ".py",
   "mimetype": "text/x-python",
   "name": "python",
   "nbconvert_exporter": "python",
   "pygments_lexer": "ipython3",
   "version": "3.10.11"
  }
 },
 "nbformat": 4,
 "nbformat_minor": 5
}
